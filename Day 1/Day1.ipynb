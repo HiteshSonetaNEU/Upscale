{
 "cells": [
  {
   "cell_type": "code",
   "execution_count": 6,
   "id": "476dc8fd",
   "metadata": {},
   "outputs": [
    {
     "name": "stdout",
     "output_type": "stream",
     "text": [
      "Hello World.\n",
      "\n"
     ]
    }
   ],
   "source": [
    "file = open (\"example.txt\",\"r\")\n",
    "content =file.read()\n",
    "print(content)\n",
    "file.close()"
   ]
  },
  {
   "cell_type": "code",
   "execution_count": null,
   "id": "033e1ea2",
   "metadata": {},
   "outputs": [],
   "source": [
    "file = open (\"example.txt\",\"w\")\n",
    "file.write(\"This is a new line.\\n\")\n",
    "file.close()"
   ]
  },
  {
   "cell_type": "code",
   "execution_count": 7,
   "id": "ad98072a",
   "metadata": {},
   "outputs": [],
   "source": [
    "file = open (\"example.txt\",\"a\")\n",
    "file.write(\"This is a new line.\\n\")\n",
    "file.close()"
   ]
  },
  {
   "cell_type": "code",
   "execution_count": 9,
   "id": "2dfac845",
   "metadata": {},
   "outputs": [
    {
     "name": "stdout",
     "output_type": "stream",
     "text": [
      "Hello World.\n",
      "This is a new line.\n",
      "\n"
     ]
    }
   ],
   "source": [
    "try :\n",
    "    file = open (\"example.txt\",\"r\")\n",
    "    content =file.read()\n",
    "    print(content)\n",
    "except FileNotFoundError:\n",
    "    print(\"File not found. Please check the file path and try again.\")\n",
    "\n",
    "finally:\n",
    "    file.close()    "
   ]
  },
  {
   "cell_type": "code",
   "execution_count": 10,
   "id": "ee9f4a5c",
   "metadata": {},
   "outputs": [
    {
     "name": "stdout",
     "output_type": "stream",
     "text": [
      "Hello World.\n",
      "This is a new line.\n",
      "\n"
     ]
    }
   ],
   "source": [
    "with open (\"example.txt\",\"r\") as file:\n",
    "    content =file.read()\n",
    "    print(content)"
   ]
  },
  {
   "cell_type": "code",
   "execution_count": null,
   "id": "c93122e2",
   "metadata": {},
   "outputs": [],
   "source": [
    "import csv\n",
    "\n",
    "# Function to read and process a CSV file\n",
    "def read_csv_file(file_path):\n",
    "    try:\n",
    "        with open(file_path, \"r\") as csv_file:\n",
    "            reader = csv.reader(csv_file)\n",
    "            header = next(reader)  # Read the header row\n",
    "            print(\"Header:\", header)\n",
    "            for row in reader:\n",
    "                print(\"Row:\", row)  # Process each row\n",
    "    except FileNotFoundError:\n",
    "        print(f\"Error: The file '{file_path}' was not found.\")\n",
    "    except csv.Error as e:\n",
    "        print(f\"Error: An issue occurred while parsing the CSV file: {e}\")\n",
    "    except Exception as e:\n",
    "        print(f\"An unexpected error occurred: {e}\")\n",
    "    finally:\n",
    "        print(\"Finished processing the CSV file.\")\n",
    "\n",
    "# Function to write data to a CSV file\n",
    "def write_csv_file(file_path, data):\n",
    "    try:\n",
    "        with open(file_path, \"w\", newline=\"\") as csv_file:\n",
    "            writer = csv.writer(csv_file)\n",
    "            writer.writerow(data[\"header\"])  # Write header row\n",
    "            writer.writerows(data[\"rows\"])  # Write data rows\n",
    "    except PermissionError:\n",
    "        print(f\"Error: Permission denied when trying to write to '{file_path}'.\")\n",
    "    except Exception as e:\n",
    "        print(f\"An unexpected error occurred: {e}\")\n",
    "    finally:\n",
    "        print(\"Finished writing to the CSV file.\")\n",
    "\n",
    "# Example usage\n",
    "if __name__ == \"__main__\":\n",
    "    # Example data to write\n",
    "    csv_data = {\n",
    "        \"header\": [\"Name\", \"Age\", \"City\"],\n",
    "        \"rows\": [\n",
    "            [\"Alice\", 30, \"New York\"],\n",
    "            [\"Bob\", 25, \"Los Angeles\"],\n",
    "            [\"Charlie\", 35, \"Chicago\"]\n",
    "        ]\n",
    "    }\n",
    "\n",
    "    # File paths\n",
    "    csv_file_path = \"example.csv\"\n",
    "\n",
    "    # Write to CSV\n",
    "    write_csv_file(csv_file_path, csv_data)\n",
    "\n",
    "    # Read from CSV\n",
    "    read_csv_file(csv_file_path)"
   ]
  }
 ],
 "metadata": {
  "kernelspec": {
   "display_name": "Python 3",
   "language": "python",
   "name": "python3"
  },
  "language_info": {
   "codemirror_mode": {
    "name": "ipython",
    "version": 3
   },
   "file_extension": ".py",
   "mimetype": "text/x-python",
   "name": "python",
   "nbconvert_exporter": "python",
   "pygments_lexer": "ipython3",
   "version": "3.11.5"
  }
 },
 "nbformat": 4,
 "nbformat_minor": 5
}
