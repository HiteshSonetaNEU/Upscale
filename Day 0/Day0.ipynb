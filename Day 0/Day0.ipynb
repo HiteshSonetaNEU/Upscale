{
 "cells": [
  {
   "cell_type": "code",
   "execution_count": 2,
   "id": "01791157",
   "metadata": {},
   "outputs": [
    {
     "data": {
      "text/plain": [
       "4"
      ]
     },
     "execution_count": 2,
     "metadata": {},
     "output_type": "execute_result"
    }
   ],
   "source": [
    "# Define a lambda function to multiply two numbers and call it with arguments 2 and 2.\n",
    "myFunc= lambda x,y : x*y\n",
    "myFunc(2,2)"
   ]
  },
  {
   "cell_type": "code",
   "execution_count": 3,
   "id": "cf98242f",
   "metadata": {},
   "outputs": [
    {
     "name": "stdout",
     "output_type": "stream",
     "text": [
      "[{'name': 'Bob', 'grade': 70}, {'name': 'Alice', 'grade': 85}, {'name': 'Charlie', 'grade': 95}]\n"
     ]
    }
   ],
   "source": [
    "# Create a list of students with their grades, sort them by grade using a lambda function, and print the sorted list.\n",
    "students=[\n",
    "    {\"name\": \"Alice\", \"grade\": 85},\n",
    "    {\"name\": \"Bob\", \"grade\": 70},\n",
    "    {\"name\": \"Charlie\", \"grade\": 95}\n",
    "\n",
    "]\n",
    "students.sort(key=lambda x: x[\"grade\"])\n",
    "print(students)"
   ]
  },
  {
   "cell_type": "code",
   "execution_count": 4,
   "id": "2179e936",
   "metadata": {},
   "outputs": [
    {
     "name": "stdout",
     "output_type": "stream",
     "text": [
      "[{'name': 'Bob', 'grade': 70}, {'name': 'Alice', 'grade': 85}, {'name': 'Charlie', 'grade': 95}]\n"
     ]
    }
   ],
   "source": [
    "# Define a function to extract the grade from a student dictionary, sort the students list using this function, and print the sorted list.\n",
    "students=[\n",
    "    {\"name\": \"Alice\", \"grade\": 85},\n",
    "    {\"name\": \"Bob\", \"grade\": 70},\n",
    "    {\"name\": \"Charlie\", \"grade\": 95}\n",
    "\n",
    "]\n",
    "def sort_students(x):\n",
    "    return x['grade']\n",
    "# Explanation: The sort() method internally calls the sort_students function for each element in the students list.\n",
    "# Each dictionary in the list is passed as the argument 'x' to the sort_students function.\n",
    "# The function returns the value of the 'grade' key, which is used by sort() to sort the list.\n",
    "students.sort(key=sort_students)\n",
    "print(students)"
   ]
  },
  {
   "cell_type": "code",
   "execution_count": 5,
   "id": "fc0975de",
   "metadata": {},
   "outputs": [
    {
     "data": {
      "text/plain": [
       "[5, 4, 7, 0, 3]"
      ]
     },
     "execution_count": 5,
     "metadata": {},
     "output_type": "execute_result"
    }
   ],
   "source": [
    "# Filter the list of numbers to include only non-negative values.\n",
    "numbers = [-1,5,-6,-2,4,7,0,3]\n",
    "list(filter(lambda x: x >= 0, numbers))\n"
   ]
  },
  {
   "cell_type": "code",
   "execution_count": 6,
   "id": "a336014e",
   "metadata": {},
   "outputs": [
    {
     "data": {
      "text/plain": [
       "[1, 25, 36, 4, 16, 49, 0, 9]"
      ]
     },
     "execution_count": 6,
     "metadata": {},
     "output_type": "execute_result"
    }
   ],
   "source": [
    "# Apply a lambda function to square each number in the list.\n",
    "numbers = [-1,5,-6,-2,4,7,0,3]\n",
    "list(map (lambda x: x**2, numbers))"
   ]
  },
  {
   "cell_type": "code",
   "execution_count": 7,
   "id": "f4a12ae4",
   "metadata": {},
   "outputs": [
    {
     "data": {
      "text/plain": [
       "[-1, 10, -18]"
      ]
     },
     "execution_count": 7,
     "metadata": {},
     "output_type": "execute_result"
    }
   ],
   "source": [
    "# Multiply corresponding elements of two lists using a lambda function.\n",
    "numbers = [-1,5,-6,-2,4,7,0,3]\n",
    "numbers2=[1,2,3]\n",
    "list(map (lambda x,y: x*y, numbers,numbers2))"
   ]
  },
  {
   "cell_type": "code",
   "execution_count": 8,
   "id": "6c18d755",
   "metadata": {},
   "outputs": [
    {
     "name": "stdout",
     "output_type": "stream",
     "text": [
      "10 -5040\n"
     ]
    }
   ],
   "source": [
    "# Use the reduce function to calculate the sum and product of a list of numbers.\n",
    "from functools import reduce\n",
    "numbers=   [-1,5,-6,-2,4,7,3]\n",
    "print(reduce(lambda x,y: x+y, numbers)\n",
    ",reduce(lambda x,y: x*y, numbers))\n"
   ]
  },
  {
   "cell_type": "code",
   "execution_count": 9,
   "id": "16530565",
   "metadata": {},
   "outputs": [
    {
     "data": {
      "text/plain": [
       "36.0"
      ]
     },
     "execution_count": 9,
     "metadata": {},
     "output_type": "execute_result"
    }
   ],
   "source": [
    "# Calculate the total cost of items in a shopping cart after applying a discount rate using the reduce function.\n",
    "from functools import reduce\n",
    "shopping_cart = [\n",
    "    {\"item\": \"apple\", \"price\": 20},\n",
    "    {\"item\": \"banana\", \"price\": 10},\n",
    "    {\"item\": \"orange\", \"price\": 15}\n",
    "\n",
    "]\n",
    "discount_rate=0.2\n",
    "reduce (lambda acc,item:acc+(item[\"price\"]*(1-discount_rate)), shopping_cart, 0)"
   ]
  },
  {
   "cell_type": "code",
   "execution_count": 10,
   "id": "29ad6dac",
   "metadata": {},
   "outputs": [
    {
     "name": "stdout",
     "output_type": "stream",
     "text": [
      "High Achievers: [{'name': 'Alice', 'grade': 85}, {'name': 'Charlie', 'grade': 95}]\n",
      "Average Grade of High Achievers: 90.0\n"
     ]
    }
   ],
   "source": [
    "# List of dictionaries representing students and their grades\n",
    "students = [\n",
    "    {\"name\": \"Alice\", \"grade\": 85},\n",
    "    {\"name\": \"Bob\", \"grade\": 70},\n",
    "    {\"name\": \"Charlie\", \"grade\": 95},\n",
    "    {\"name\": \"David\", \"grade\": 60}\n",
    "]\n",
    "\n",
    "# Filter students with grades above 80\n",
    "high_achievers = list(filter(lambda student: student[\"grade\"] > 80, students))\n",
    "print(\"High Achievers:\", high_achievers)\n",
    "\n",
    "# Extract grades of high achievers\n",
    "grades = list(map(lambda student: student[\"grade\"], high_achievers))\n",
    "\n",
    "# Calculate the average grade using reduce\n",
    "from functools import reduce\n",
    "average_grade = reduce(lambda acc, grade: acc + grade, grades) / len(grades)\n",
    "print(\"Average Grade of High Achievers:\", average_grade)"
   ]
  },
  {
   "cell_type": "code",
   "execution_count": 11,
   "id": "767ab2b9",
   "metadata": {},
   "outputs": [
    {
     "name": "stdout",
     "output_type": "stream",
     "text": [
      "[4, 16, 36]\n"
     ]
    }
   ],
   "source": [
    "def square_even_numbers(numbers):\n",
    "    even_numbers = [num for num in numbers if num % 2 == 0]\n",
    "    squared_numbers = [num ** 2 for num in even_numbers]\n",
    "    return squared_numbers\n",
    "\n",
    "numbers = [1, 2, 3, 4, 5, 6]\n",
    "print(square_even_numbers(numbers))"
   ]
  },
  {
   "cell_type": "code",
   "execution_count": 12,
   "id": "5199c137",
   "metadata": {},
   "outputs": [
    {
     "name": "stdout",
     "output_type": "stream",
     "text": [
      "[4, 16, 36]\n"
     ]
    }
   ],
   "source": [
    "numbers = [1, 2, 3, 4, 5, 6]\n",
    "\n",
    "# Filter even numbers and square them using map and filter\n",
    "squared_even_numbers = list(map(lambda x: x ** 2, filter(lambda x: x % 2 == 0, numbers)))\n",
    "print(squared_even_numbers)"
   ]
  },
  {
   "cell_type": "code",
   "execution_count": 13,
   "id": "25c071de",
   "metadata": {},
   "outputs": [
    {
     "name": "stdout",
     "output_type": "stream",
     "text": [
      "Grouped Students: {'pass': [{'name': 'Alice', 'grade': 85}, {'name': 'Charlie', 'grade': 95}], 'fail': [{'name': 'Bob', 'grade': 70}, {'name': 'David', 'grade': 60}]}\n",
      "Counts: {'pass': 2, 'fail': 2}\n"
     ]
    }
   ],
   "source": [
    "# List of students with grades\n",
    "students = [\n",
    "    {\"name\": \"Alice\", \"grade\": 85},\n",
    "    {\"name\": \"Bob\", \"grade\": 70},\n",
    "    {\"name\": \"Charlie\", \"grade\": 95},\n",
    "    {\"name\": \"David\", \"grade\": 60}\n",
    "]\n",
    "\n",
    "# Define passing grade\n",
    "passing_grade = 75\n",
    "\n",
    "# Group students into pass/fail\n",
    "grouped = {\n",
    "    \"pass\": list(filter(lambda student: student[\"grade\"] >= passing_grade, students)),\n",
    "    \"fail\": list(filter(lambda student: student[\"grade\"] < passing_grade, students))\n",
    "}\n",
    "\n",
    "# Count students in each group\n",
    "counts = {key: len(value) for key, value in grouped.items()}\n",
    "print(\"Grouped Students:\", grouped)\n",
    "print(\"Counts:\", counts)"
   ]
  },
  {
   "cell_type": "code",
   "execution_count": 14,
   "id": "e66ec94e",
   "metadata": {},
   "outputs": [
    {
     "name": "stdout",
     "output_type": "stream",
     "text": [
      "Product of Squares of Positive Numbers: 576\n"
     ]
    }
   ],
   "source": [
    "numbers = [-3, -2, -1, 0, 1, 2, 3, 4]\n",
    "\n",
    "# Filter positive numbers, square them, and calculate their product\n",
    "product_of_squares = reduce(\n",
    "    lambda acc, x: acc * x,\n",
    "    map(lambda x: x ** 2, filter(lambda x: x > 0, numbers))\n",
    ")\n",
    "print(\"Product of Squares of Positive Numbers:\", product_of_squares)"
   ]
  },
  {
   "cell_type": "code",
   "execution_count": null,
   "id": "fa8aa67b",
   "metadata": {},
   "outputs": [],
   "source": []
  }
 ],
 "metadata": {
  "kernelspec": {
   "display_name": "Python 3",
   "language": "python",
   "name": "python3"
  },
  "language_info": {
   "codemirror_mode": {
    "name": "ipython",
    "version": 3
   },
   "file_extension": ".py",
   "mimetype": "text/x-python",
   "name": "python",
   "nbconvert_exporter": "python",
   "pygments_lexer": "ipython3",
   "version": "3.11.5"
  }
 },
 "nbformat": 4,
 "nbformat_minor": 5
}
