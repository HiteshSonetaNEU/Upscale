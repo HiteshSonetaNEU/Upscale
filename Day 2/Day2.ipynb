{
 "cells": [
  {
   "cell_type": "code",
   "execution_count": 1,
   "id": "21af0e81",
   "metadata": {},
   "outputs": [
    {
     "name": "stdout",
     "output_type": "stream",
     "text": [
      "     Name  Age  Salary\n",
      "0     Tom   20    2000\n",
      "1   Jerry   21    2100\n",
      "2  Mickey   19    1900\n",
      "3  Donald   18    1800\n"
     ]
    }
   ],
   "source": [
    "import pandas as pd\n",
    "data ={\"Name\":[\"Tom\",\"Jerry\",\"Mickey\",\"Donald\"],\n",
    "        \"Age\":[20,21,19,18],\n",
    "        \"Salary\":[2000,2100,1900,1800]}\n",
    "df = pd.DataFrame(data)\n",
    "print(df)\n"
   ]
  },
  {
   "cell_type": "code",
   "execution_count": null,
   "id": "1b6c4fdf",
   "metadata": {},
   "outputs": [],
   "source": [
    "data=pd.read_csv(\"data.csv\") #to read a csv file\n",
    "print(data)"
   ]
  },
  {
   "cell_type": "code",
   "execution_count": null,
   "id": "c772a132",
   "metadata": {},
   "outputs": [],
   "source": [
    "data=pd.read_excel(\"data.xlsx\") #to read an excel file\n",
    "print(data)"
   ]
  },
  {
   "cell_type": "code",
   "execution_count": null,
   "id": "9bd54e19",
   "metadata": {},
   "outputs": [],
   "source": [
    "data=pd.read_excel(\"expenses.xlsx\") \n",
    "print(data.head(10)) #to read the first 10 rows of an excel file\n",
    "print(data.tail(10)) #to read the last 10 rows of an excel file\n",
    "print(data.sample(10)) #to read 10 random rows of an excel file\n",
    "print(data.describe()) #to get the summary of the data\n",
    "print(data.info()) #to get the information of the data\n",
    "print(data.isnull().sum()) #to get the number of null values in each column\n",
    "print(data.isna().sum()) #to get the number of null values in each column   "
   ]
  },
  {
   "cell_type": "code",
   "execution_count": 11,
   "id": "d334face",
   "metadata": {},
   "outputs": [
    {
     "name": "stdout",
     "output_type": "stream",
     "text": [
      "   EEID           name  gender  salary\n",
      "0  E001     John Smith    Male   65000\n",
      "1  E002  Sarah Johnson  Female   72000\n",
      "2  E001    Michael Lee    Male   58000\n",
      "3  E004     Emma Brown  Female   81000\n",
      "4  E005     David Chen    Male   67500\n"
     ]
    }
   ],
   "source": [
    "# Simple approach to read the company.csv file\n",
    "import pandas as pd\n",
    "data = pd.read_csv('company.csv')\n",
    "print(data)"
   ]
  },
  {
   "cell_type": "code",
   "execution_count": 14,
   "id": "c002d1fe",
   "metadata": {},
   "outputs": [
    {
     "name": "stdout",
     "output_type": "stream",
     "text": [
      "0    False\n",
      "1    False\n",
      "2     True\n",
      "3    False\n",
      "4    False\n",
      "Name: EEID, dtype: bool\n",
      "1\n"
     ]
    }
   ],
   "source": [
    "print(data[\"EEID\"].duplicated()) #to check for duplicate rows\n",
    "print(data[\"EEID\"].duplicated().sum()) #to count the number of duplicate rows"
   ]
  },
  {
   "cell_type": "code",
   "execution_count": 15,
   "id": "531e02d0",
   "metadata": {},
   "outputs": [
    {
     "name": "stdout",
     "output_type": "stream",
     "text": [
      "   EEID           name  gender  salary\n",
      "0  E001     John Smith    Male   65000\n",
      "1  E002  Sarah Johnson  Female   72000\n",
      "3  E004     Emma Brown  Female   81000\n",
      "4  E005     David Chen    Male   67500\n"
     ]
    }
   ],
   "source": [
    "print(data.drop_duplicates(\"EEID\")) #to drop duplicate rows"
   ]
  },
  {
   "cell_type": "code",
   "execution_count": 16,
   "id": "8a78e244",
   "metadata": {},
   "outputs": [
    {
     "name": "stdout",
     "output_type": "stream",
     "text": [
      "   EEID           name  gender  salary\n",
      "0  E001     John Smith    Male   65000\n",
      "1  E002  Sarah Johnson  Female   72000\n",
      "2  E001    Michael Lee     NaN   58000\n",
      "3  E004     Emma Brown  Female   81000\n",
      "4  E005     David Chen    Male   67500\n"
     ]
    }
   ],
   "source": [
    "data=pd.read_csv(\"company.csv\")\n",
    "print(data)"
   ]
  },
  {
   "cell_type": "code",
   "execution_count": 19,
   "id": "050c2003",
   "metadata": {},
   "outputs": [
    {
     "name": "stdout",
     "output_type": "stream",
     "text": [
      "    EEID   name  gender  salary\n",
      "0  False  False   False   False\n",
      "1  False  False   False   False\n",
      "2  False  False    True   False\n",
      "3  False  False   False   False\n",
      "4  False  False   False   False\n",
      "EEID      0\n",
      "name      0\n",
      "gender    1\n",
      "salary    0\n",
      "dtype: int64\n"
     ]
    }
   ],
   "source": [
    "print(data.isnull())\n",
    "print(data.isnull().sum())"
   ]
  },
  {
   "cell_type": "code",
   "execution_count": 20,
   "id": "d32c3689",
   "metadata": {},
   "outputs": [
    {
     "name": "stdout",
     "output_type": "stream",
     "text": [
      "   EEID           name  gender  salary\n",
      "0  E001     John Smith    Male   65000\n",
      "1  E002  Sarah Johnson  Female   72000\n",
      "2  E001    Michael Lee      AA   58000\n",
      "3  E004     Emma Brown  Female   81000\n",
      "4  E005     David Chen    Male   67500\n"
     ]
    }
   ],
   "source": [
    "import numpy as np\n",
    "print(data.replace(np.nan,\"AA\"))"
   ]
  },
  {
   "cell_type": "code",
   "execution_count": 21,
   "id": "7a068289",
   "metadata": {},
   "outputs": [
    {
     "name": "stdout",
     "output_type": "stream",
     "text": [
      "   EEID           name  gender  salary\n",
      "0  E001     John Smith    Male   65000\n",
      "1  E002  Sarah Johnson  Female   72000\n",
      "2  E001    Michael Lee    Male   58000\n",
      "3  E004     Emma Brown  Female   81000\n",
      "4  E005     David Chen    Male   67500\n"
     ]
    }
   ],
   "source": [
    "data[\"gender\"]= data['gender'].replace(np.nan,\"Male\")\n",
    "print(data)"
   ]
  },
  {
   "cell_type": "code",
   "execution_count": 22,
   "id": "250f7fff",
   "metadata": {},
   "outputs": [
    {
     "name": "stdout",
     "output_type": "stream",
     "text": [
      "68700.0\n"
     ]
    }
   ],
   "source": [
    "print(data['salary'].mean())"
   ]
  },
  {
   "cell_type": "code",
   "execution_count": 23,
   "id": "c11b8ad6",
   "metadata": {},
   "outputs": [
    {
     "name": "stdout",
     "output_type": "stream",
     "text": [
      "   EEID           name  gender  salary\n",
      "0  E001     John Smith    Male   65000\n",
      "1  E002  Sarah Johnson  Female   72000\n",
      "2  E001    Michael Lee    Male   58000\n",
      "3  E004     Emma Brown  Female   81000\n",
      "4  E005     David Chen    Male   67500\n",
      "   EEID           name  gender  salary\n",
      "0  E001     John Smith    Male   65000\n",
      "1  E002  Sarah Johnson  Female   72000\n",
      "2  E001    Michael Lee    Male   58000\n",
      "3  E004     Emma Brown  Female   81000\n",
      "4  E005     David Chen    Male   67500\n"
     ]
    },
    {
     "name": "stderr",
     "output_type": "stream",
     "text": [
      "C:\\Users\\hites\\AppData\\Local\\Temp\\ipykernel_5672\\611521344.py:1: FutureWarning: DataFrame.fillna with 'method' is deprecated and will raise in a future version. Use obj.ffill() or obj.bfill() instead.\n",
      "  print(data.fillna(method='ffill')) #to fill the missing values with the previous value\n",
      "C:\\Users\\hites\\AppData\\Local\\Temp\\ipykernel_5672\\611521344.py:2: FutureWarning: DataFrame.fillna with 'method' is deprecated and will raise in a future version. Use obj.ffill() or obj.bfill() instead.\n",
      "  print(data.fillna(method='bfill')) #to fill the missing values with the next value\n"
     ]
    }
   ],
   "source": [
    "print(data.fillna(method='ffill')) #to fill the missing values with the previous value\n",
    "print(data.fillna(method='bfill')) #to fill the missing values with the next value"
   ]
  },
  {
   "cell_type": "markdown",
   "id": "de17771b",
   "metadata": {},
   "source": [
    "# CSV File Exploration Exercise\n",
    "\n",
    "In this exercise, we'll explore the `company.csv` file using various pandas functions:\n",
    "- `head()` - to view the first few rows\n",
    "- `info()` - to get information about the dataframe\n",
    "- `describe()` - to get statistical summary\n",
    "- Select and filter rows/columns using pandas indexing and filtering methods"
   ]
  },
  {
   "cell_type": "code",
   "execution_count": 24,
   "id": "db1943ca",
   "metadata": {},
   "outputs": [
    {
     "name": "stdout",
     "output_type": "stream",
     "text": [
      "First 5 rows of the dataset:\n",
      "   EEID           name  gender  salary\n",
      "0  E001     John Smith    Male   65000\n",
      "1  E002  Sarah Johnson  Female   72000\n",
      "2  E001    Michael Lee     NaN   58000\n",
      "3  E004     Emma Brown  Female   81000\n",
      "4  E005     David Chen    Male   67500\n"
     ]
    }
   ],
   "source": [
    "# Load the company.csv file\n",
    "import pandas as pd\n",
    "company_data = pd.read_csv('company.csv')\n",
    "\n",
    "# Display the first 5 rows of the dataset\n",
    "print(\"First 5 rows of the dataset:\")\n",
    "print(company_data.head())"
   ]
  },
  {
   "cell_type": "markdown",
   "id": "32de66a2",
   "metadata": {},
   "source": [
    "## Key Finding: Dataset Overview\n",
    "\n",
    "The dataset contains employee information with EEID (Employee ID), name, gender, and salary information.\n",
    "Let's check the data types and see if there are any missing values."
   ]
  },
  {
   "cell_type": "code",
   "execution_count": 25,
   "id": "3cb92528",
   "metadata": {},
   "outputs": [
    {
     "name": "stdout",
     "output_type": "stream",
     "text": [
      "Dataset information:\n",
      "<class 'pandas.core.frame.DataFrame'>\n",
      "RangeIndex: 5 entries, 0 to 4\n",
      "Data columns (total 4 columns):\n",
      " #   Column  Non-Null Count  Dtype \n",
      "---  ------  --------------  ----- \n",
      " 0   EEID    5 non-null      object\n",
      " 1   name    5 non-null      object\n",
      " 2   gender  4 non-null      object\n",
      " 3   salary  5 non-null      int64 \n",
      "dtypes: int64(1), object(3)\n",
      "memory usage: 292.0+ bytes\n"
     ]
    }
   ],
   "source": [
    "# Get information about the dataset\n",
    "print(\"Dataset information:\")\n",
    "company_data.info()"
   ]
  },
  {
   "cell_type": "markdown",
   "id": "8c4909e3",
   "metadata": {},
   "source": [
    "## Key Finding: Data Types and Missing Values\n",
    "\n",
    "We can see the data types of each column and check if there are any missing values.\n",
    "Next, let's get statistical insights about the numerical data (salary)."
   ]
  },
  {
   "cell_type": "code",
   "execution_count": 26,
   "id": "61a9c752",
   "metadata": {},
   "outputs": [
    {
     "name": "stdout",
     "output_type": "stream",
     "text": [
      "Statistical summary:\n",
      "             salary\n",
      "count      5.000000\n",
      "mean   68700.000000\n",
      "std     8541.077215\n",
      "min    58000.000000\n",
      "25%    65000.000000\n",
      "50%    67500.000000\n",
      "75%    72000.000000\n",
      "max    81000.000000\n"
     ]
    }
   ],
   "source": [
    "# Get statistical summary of the dataset\n",
    "print(\"Statistical summary:\")\n",
    "print(company_data.describe())"
   ]
  },
  {
   "cell_type": "markdown",
   "id": "d976d07b",
   "metadata": {},
   "source": [
    "## Key Finding: Statistical Summary\n",
    "\n",
    "The statistical summary provides insights about the salary distribution:\n",
    "- We can see the average salary\n",
    "- The minimum and maximum salaries\n",
    "- Percentile information\n",
    "\n",
    "Now let's try different selection and filtering operations."
   ]
  },
  {
   "cell_type": "code",
   "execution_count": 27,
   "id": "26a686b8",
   "metadata": {},
   "outputs": [
    {
     "name": "stdout",
     "output_type": "stream",
     "text": [
      "Employee names and their salaries:\n",
      "            name  salary\n",
      "0     John Smith   65000\n",
      "1  Sarah Johnson   72000\n",
      "2    Michael Lee   58000\n",
      "3     Emma Brown   81000\n",
      "4     David Chen   67500\n"
     ]
    }
   ],
   "source": [
    "# Select specific columns\n",
    "print(\"Employee names and their salaries:\")\n",
    "print(company_data[['name', 'salary']])"
   ]
  },
  {
   "cell_type": "code",
   "execution_count": 28,
   "id": "651562bc",
   "metadata": {},
   "outputs": [
    {
     "name": "stdout",
     "output_type": "stream",
     "text": [
      "Employees with salary greater than 70000:\n",
      "   EEID           name  gender  salary\n",
      "1  E002  Sarah Johnson  Female   72000\n",
      "3  E004     Emma Brown  Female   81000\n"
     ]
    }
   ],
   "source": [
    "# Filter rows based on conditions\n",
    "# Get employees with salary greater than 70000\n",
    "high_salary = company_data[company_data['salary'] > 70000]\n",
    "print(\"Employees with salary greater than 70000:\")\n",
    "print(high_salary)"
   ]
  },
  {
   "cell_type": "code",
   "execution_count": 29,
   "id": "fc6acbe2",
   "metadata": {},
   "outputs": [
    {
     "name": "stdout",
     "output_type": "stream",
     "text": [
      "Number of male employees: 2\n",
      "Number of female employees: 2\n"
     ]
    }
   ],
   "source": [
    "# Filter by gender\n",
    "male_employees = company_data[company_data['gender'] == 'Male']\n",
    "female_employees = company_data[company_data['gender'] == 'Female']\n",
    "\n",
    "print(\"Number of male employees:\", len(male_employees))\n",
    "print(\"Number of female employees:\", len(female_employees))"
   ]
  },
  {
   "cell_type": "code",
   "execution_count": 30,
   "id": "4e7ed0cf",
   "metadata": {},
   "outputs": [
    {
     "name": "stdout",
     "output_type": "stream",
     "text": [
      "Average salary by gender:\n",
      "gender\n",
      "Female    76500.0\n",
      "Male      66250.0\n",
      "Name: salary, dtype: float64\n"
     ]
    }
   ],
   "source": [
    "# Calculate average salary by gender\n",
    "print(\"Average salary by gender:\")\n",
    "print(company_data.groupby('gender')['salary'].mean())"
   ]
  },
  {
   "cell_type": "markdown",
   "id": "d4a77ece",
   "metadata": {},
   "source": [
    "## Key Findings Summary\n",
    "\n",
    "1. **Dataset Structure**: The company dataset contains employee information with unique IDs, names, gender, and salary information.\n",
    "2. **Gender Distribution**: We identified the number of male and female employees in the dataset.\n",
    "3. **Salary Analysis**: \n",
    "   - We found employees with high salaries (>70000)\n",
    "   - We calculated average salaries by gender to identify any potential gender wage gaps.\n",
    "4. **Data Quality**: Through info() we verified all data is present with no missing values.\n",
    "\n",
    "This exploration demonstrates basic pandas operations for examining CSV data, including:\n",
    "- Loading data with `read_csv()`\n",
    "- Initial examination with `head()`\n",
    "- Data structure analysis with `info()`\n",
    "- Statistical summaries with `describe()`\n",
    "- Row and column selection/filtering\n",
    "- Basic aggregation with `groupby()`"
   ]
  }
 ],
 "metadata": {
  "kernelspec": {
   "display_name": "Python 3",
   "language": "python",
   "name": "python3"
  },
  "language_info": {
   "codemirror_mode": {
    "name": "ipython",
    "version": 3
   },
   "file_extension": ".py",
   "mimetype": "text/x-python",
   "name": "python",
   "nbconvert_exporter": "python",
   "pygments_lexer": "ipython3",
   "version": "3.11.5"
  }
 },
 "nbformat": 4,
 "nbformat_minor": 5
}
